{
 "cells": [
  {
   "cell_type": "code",
   "execution_count": null,
   "id": "b70f1ce6-be54-4ac7-91e4-ca1d9f1b8719",
   "metadata": {},
   "outputs": [],
   "source": []
  },
  {
   "cell_type": "code",
   "execution_count": 5,
   "id": "23343b6a-9cea-4d1a-a60d-5cb25004d00a",
   "metadata": {},
   "outputs": [
    {
     "name": "stdout",
     "output_type": "stream",
     "text": [
      "\n",
      "Random tensor:\n",
      "[[[2 0 1 2 2]\n",
      "  [0 2 1 0 2]\n",
      "  [0 1 1 2 0]\n",
      "  [1 0 0 1 2]]\n",
      "\n",
      " [[1 1 0 1 0]\n",
      "  [2 2 2 2 1]\n",
      "  [2 2 1 0 2]\n",
      "  [0 2 2 0 2]]\n",
      "\n",
      " [[1 0 0 2 1]\n",
      "  [0 0 2 2 1]\n",
      "  [2 1 2 2 1]\n",
      "  [1 2 0 1 2]]]\n"
     ]
    }
   ],
   "source": [
    "import numpy as np\n",
    "# Generate a random 2D NumPy array with dimensions 3 x 4 x 5\n",
    "tensor = np.random.randint(3, size=(3, 4, 5)) # (block, rows, columns)\n",
    "\n",
    "# Print the generated vector\n",
    "print(\"\\nRandom tensor:\")\n",
    "print(tensor)"
   ]
  },
  {
   "cell_type": "code",
   "execution_count": 9,
   "id": "64df0e15-d7fe-4aa5-ab4d-fe5936f148a3",
   "metadata": {},
   "outputs": [
    {
     "ename": "SyntaxError",
     "evalue": "invalid syntax (2939100188.py, line 5)",
     "output_type": "error",
     "traceback": [
      "\u001b[1;36m  Cell \u001b[1;32mIn[9], line 5\u001b[1;36m\u001b[0m\n\u001b[1;33m    elif = array1 != array2:\u001b[0m\n\u001b[1;37m         ^\u001b[0m\n\u001b[1;31mSyntaxError\u001b[0m\u001b[1;31m:\u001b[0m invalid syntax\n"
     ]
    }
   ],
   "source": [
    "array1 = np.array([1, 2, 3, 4, 5])\n",
    "array2 = np.array([3, 4, 5, 6, 7])\n",
    "if array1 == array2:\n",
    "    print(equal_result)\n",
    "elif = array1 != array2:\n",
    "    print(\"\\nInequality Comparison Result:\")\n"
   ]
  },
  {
   "cell_type": "code",
   "execution_count": 15,
   "id": "fa563bdb-ca2b-4084-865d-fea4c48a5c39",
   "metadata": {},
   "outputs": [
    {
     "ename": "AttributeError",
     "evalue": "'list' object has no attribute 'upper'",
     "output_type": "error",
     "traceback": [
      "\u001b[1;31m---------------------------------------------------------------------------\u001b[0m",
      "\u001b[1;31mAttributeError\u001b[0m                            Traceback (most recent call last)",
      "Cell \u001b[1;32mIn[15], line 2\u001b[0m\n\u001b[0;32m      1\u001b[0m words \u001b[38;5;241m=\u001b[39m [\u001b[38;5;124m'\u001b[39m\u001b[38;5;124mplay\u001b[39m\u001b[38;5;124m'\u001b[39m, \u001b[38;5;124m'\u001b[39m\u001b[38;5;124mfilling\u001b[39m\u001b[38;5;124m'\u001b[39m, \u001b[38;5;124m'\u001b[39m\u001b[38;5;124mbar\u001b[39m\u001b[38;5;124m'\u001b[39m, \u001b[38;5;124m'\u001b[39m\u001b[38;5;124mtheatre\u001b[39m\u001b[38;5;124m'\u001b[39m, \u001b[38;5;124m'\u001b[39m\u001b[38;5;124measygoing\u001b[39m\u001b[38;5;124m'\u001b[39m, \u001b[38;5;124m'\u001b[39m\u001b[38;5;124mdate\u001b[39m\u001b[38;5;124m'\u001b[39m, \u001b[38;5;124m'\u001b[39m\u001b[38;5;124mlead\u001b[39m\u001b[38;5;124m'\u001b[39m, \u001b[38;5;124m'\u001b[39m\u001b[38;5;124mthat\u001b[39m\u001b[38;5;124m'\u001b[39m, \u001b[38;5;124m'\u001b[39m\u001b[38;5;124mstory\u001b[39m\u001b[38;5;124m'\u001b[39m,  \u001b[38;5;124m'\u001b[39m\u001b[38;5;124misland\u001b[39m\u001b[38;5;124m'\u001b[39m]\n\u001b[1;32m----> 2\u001b[0m uppercase \u001b[38;5;241m=\u001b[39m [words\u001b[38;5;241m.\u001b[39mupper(\u001b[38;5;124m'\u001b[39m\u001b[38;5;124m'\u001b[39m) \u001b[38;5;28;01mfor\u001b[39;00m word \u001b[38;5;129;01min\u001b[39;00m words]\n\u001b[0;32m      3\u001b[0m \u001b[38;5;28mprint\u001b[39m(uppercase)\n",
      "\u001b[1;31mAttributeError\u001b[0m: 'list' object has no attribute 'upper'"
     ]
    }
   ],
   "source": [
    "words = ['play', 'filling', 'bar', 'theatre', 'easygoing', 'date', 'lead', 'that', 'story',  'island']\n",
    "uppercase = [words.upper('') for word in words]\n",
    "print(uppercase)"
   ]
  },
  {
   "cell_type": "code",
   "execution_count": null,
   "id": "bf9253f5-b2ea-49dc-96a6-8e20e22329b0",
   "metadata": {},
   "outputs": [],
   "source": []
  }
 ],
 "metadata": {
  "kernelspec": {
   "display_name": "Python 3 (ipykernel)",
   "language": "python",
   "name": "python3"
  },
  "language_info": {
   "codemirror_mode": {
    "name": "ipython",
    "version": 3
   },
   "file_extension": ".py",
   "mimetype": "text/x-python",
   "name": "python",
   "nbconvert_exporter": "python",
   "pygments_lexer": "ipython3",
   "version": "3.12.7"
  }
 },
 "nbformat": 4,
 "nbformat_minor": 5
}
